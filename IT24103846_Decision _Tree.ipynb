{
 "cells": [
  {
   "cell_type": "code",
   "execution_count": 1,
   "id": "initial_id",
   "metadata": {
    "ExecuteTime": {
     "end_time": "2025-10-20T06:30:46.988829Z",
     "start_time": "2025-10-20T06:30:46.979496Z"
    }
   },
   "outputs": [],
   "source": [
    "import pandas as pd\n",
    "import numpy as np\n",
    "import matplotlib.pyplot as plt\n",
    "from sklearn.model_selection import train_test_split, RandomizedSearchCV, KFold, cross_val_score\n",
    "from sklearn.tree import DecisionTreeRegressor\n",
    "from sklearn.metrics import mean_absolute_error, mean_squared_error, r2_score"
   ]
  },
  {
   "cell_type": "code",
   "execution_count": 2,
   "id": "13524850a8571adf",
   "metadata": {
    "ExecuteTime": {
     "end_time": "2025-10-20T06:30:50.897277Z",
     "start_time": "2025-10-20T06:30:47.016421Z"
    }
   },
   "outputs": [
    {
     "name": "stdout",
     "output_type": "stream",
     "text": [
      "Dataset loaded successfully!\n",
      "Shape: (501483, 77)\n"
     ]
    },
    {
     "data": {
      "text/html": [
       "<div>\n",
       "<style scoped>\n",
       "    .dataframe tbody tr th:only-of-type {\n",
       "        vertical-align: middle;\n",
       "    }\n",
       "\n",
       "    .dataframe tbody tr th {\n",
       "        vertical-align: top;\n",
       "    }\n",
       "\n",
       "    .dataframe thead th {\n",
       "        text-align: right;\n",
       "    }\n",
       "</style>\n",
       "<table border=\"1\" class=\"dataframe\">\n",
       "  <thead>\n",
       "    <tr style=\"text-align: right;\">\n",
       "      <th></th>\n",
       "      <th>loan_amnt</th>\n",
       "      <th>int_rate</th>\n",
       "      <th>installment</th>\n",
       "      <th>grade</th>\n",
       "      <th>emp_length</th>\n",
       "      <th>home_ownership</th>\n",
       "      <th>annual_inc</th>\n",
       "      <th>issue_d</th>\n",
       "      <th>loan_status</th>\n",
       "      <th>dti</th>\n",
       "      <th>...</th>\n",
       "      <th>tot_hi_cred_lim</th>\n",
       "      <th>total_bal_ex_mort</th>\n",
       "      <th>total_bc_limit</th>\n",
       "      <th>total_il_high_credit_limit</th>\n",
       "      <th>term_ 36 months</th>\n",
       "      <th>term_ 60 months</th>\n",
       "      <th>application_type_Individual</th>\n",
       "      <th>application_type_Joint App</th>\n",
       "      <th>fico_score</th>\n",
       "      <th>last_fico_score</th>\n",
       "    </tr>\n",
       "  </thead>\n",
       "  <tbody>\n",
       "    <tr>\n",
       "      <th>0</th>\n",
       "      <td>3600.0</td>\n",
       "      <td>13.99</td>\n",
       "      <td>123.03</td>\n",
       "      <td>3</td>\n",
       "      <td>10</td>\n",
       "      <td>2</td>\n",
       "      <td>55000.0</td>\n",
       "      <td>2015-12-01</td>\n",
       "      <td>1</td>\n",
       "      <td>5.91</td>\n",
       "      <td>...</td>\n",
       "      <td>178050.0</td>\n",
       "      <td>7746.0</td>\n",
       "      <td>2400.0</td>\n",
       "      <td>13734.0</td>\n",
       "      <td>1</td>\n",
       "      <td>0</td>\n",
       "      <td>1</td>\n",
       "      <td>0</td>\n",
       "      <td>677.0</td>\n",
       "      <td>562.0</td>\n",
       "    </tr>\n",
       "    <tr>\n",
       "      <th>1</th>\n",
       "      <td>24700.0</td>\n",
       "      <td>11.99</td>\n",
       "      <td>820.28</td>\n",
       "      <td>3</td>\n",
       "      <td>10</td>\n",
       "      <td>2</td>\n",
       "      <td>65000.0</td>\n",
       "      <td>2015-12-01</td>\n",
       "      <td>1</td>\n",
       "      <td>16.06</td>\n",
       "      <td>...</td>\n",
       "      <td>314017.0</td>\n",
       "      <td>39475.0</td>\n",
       "      <td>79300.0</td>\n",
       "      <td>24667.0</td>\n",
       "      <td>1</td>\n",
       "      <td>0</td>\n",
       "      <td>1</td>\n",
       "      <td>0</td>\n",
       "      <td>717.0</td>\n",
       "      <td>697.0</td>\n",
       "    </tr>\n",
       "    <tr>\n",
       "      <th>2</th>\n",
       "      <td>10400.0</td>\n",
       "      <td>22.45</td>\n",
       "      <td>289.91</td>\n",
       "      <td>6</td>\n",
       "      <td>3</td>\n",
       "      <td>2</td>\n",
       "      <td>104433.0</td>\n",
       "      <td>2015-12-01</td>\n",
       "      <td>1</td>\n",
       "      <td>25.37</td>\n",
       "      <td>...</td>\n",
       "      <td>439570.0</td>\n",
       "      <td>95768.0</td>\n",
       "      <td>20300.0</td>\n",
       "      <td>88097.0</td>\n",
       "      <td>0</td>\n",
       "      <td>1</td>\n",
       "      <td>1</td>\n",
       "      <td>0</td>\n",
       "      <td>697.0</td>\n",
       "      <td>702.0</td>\n",
       "    </tr>\n",
       "    <tr>\n",
       "      <th>3</th>\n",
       "      <td>20000.0</td>\n",
       "      <td>9.17</td>\n",
       "      <td>637.58</td>\n",
       "      <td>2</td>\n",
       "      <td>10</td>\n",
       "      <td>2</td>\n",
       "      <td>180000.0</td>\n",
       "      <td>2015-12-01</td>\n",
       "      <td>1</td>\n",
       "      <td>14.67</td>\n",
       "      <td>...</td>\n",
       "      <td>388852.0</td>\n",
       "      <td>116762.0</td>\n",
       "      <td>31500.0</td>\n",
       "      <td>46452.0</td>\n",
       "      <td>1</td>\n",
       "      <td>0</td>\n",
       "      <td>1</td>\n",
       "      <td>0</td>\n",
       "      <td>682.0</td>\n",
       "      <td>652.0</td>\n",
       "    </tr>\n",
       "    <tr>\n",
       "      <th>4</th>\n",
       "      <td>20000.0</td>\n",
       "      <td>8.49</td>\n",
       "      <td>631.26</td>\n",
       "      <td>2</td>\n",
       "      <td>10</td>\n",
       "      <td>2</td>\n",
       "      <td>85000.0</td>\n",
       "      <td>2015-12-01</td>\n",
       "      <td>1</td>\n",
       "      <td>17.61</td>\n",
       "      <td>...</td>\n",
       "      <td>193390.0</td>\n",
       "      <td>27937.0</td>\n",
       "      <td>14500.0</td>\n",
       "      <td>36144.0</td>\n",
       "      <td>1</td>\n",
       "      <td>0</td>\n",
       "      <td>1</td>\n",
       "      <td>0</td>\n",
       "      <td>707.0</td>\n",
       "      <td>672.0</td>\n",
       "    </tr>\n",
       "  </tbody>\n",
       "</table>\n",
       "<p>5 rows × 77 columns</p>\n",
       "</div>"
      ],
      "text/plain": [
       "   loan_amnt  int_rate  installment  grade  emp_length home_ownership  \\\n",
       "0     3600.0     13.99       123.03      3          10              2   \n",
       "1    24700.0     11.99       820.28      3          10              2   \n",
       "2    10400.0     22.45       289.91      6           3              2   \n",
       "3    20000.0      9.17       637.58      2          10              2   \n",
       "4    20000.0      8.49       631.26      2          10              2   \n",
       "\n",
       "   annual_inc     issue_d loan_status    dti  ...  tot_hi_cred_lim  \\\n",
       "0     55000.0  2015-12-01           1   5.91  ...         178050.0   \n",
       "1     65000.0  2015-12-01           1  16.06  ...         314017.0   \n",
       "2    104433.0  2015-12-01           1  25.37  ...         439570.0   \n",
       "3    180000.0  2015-12-01           1  14.67  ...         388852.0   \n",
       "4     85000.0  2015-12-01           1  17.61  ...         193390.0   \n",
       "\n",
       "  total_bal_ex_mort  total_bc_limit  total_il_high_credit_limit  \\\n",
       "0            7746.0          2400.0                     13734.0   \n",
       "1           39475.0         79300.0                     24667.0   \n",
       "2           95768.0         20300.0                     88097.0   \n",
       "3          116762.0         31500.0                     46452.0   \n",
       "4           27937.0         14500.0                     36144.0   \n",
       "\n",
       "   term_ 36 months  term_ 60 months  application_type_Individual  \\\n",
       "0                1                0                            1   \n",
       "1                1                0                            1   \n",
       "2                0                1                            1   \n",
       "3                1                0                            1   \n",
       "4                1                0                            1   \n",
       "\n",
       "   application_type_Joint App  fico_score  last_fico_score  \n",
       "0                           0       677.0            562.0  \n",
       "1                           0       717.0            697.0  \n",
       "2                           0       697.0            702.0  \n",
       "3                           0       682.0            652.0  \n",
       "4                           0       707.0            672.0  \n",
       "\n",
       "[5 rows x 77 columns]"
      ]
     },
     "execution_count": 2,
     "metadata": {},
     "output_type": "execute_result"
    }
   ],
   "source": [
    "df = pd.read_csv(\"features.csv\", low_memory=False)\n",
    "print(\"Dataset loaded successfully!\")\n",
    "print(\"Shape:\", df.shape)\n",
    "df.head()"
   ]
  },
  {
   "cell_type": "code",
   "execution_count": 3,
   "id": "b9f21f80192faf48",
   "metadata": {
    "ExecuteTime": {
     "end_time": "2025-10-20T06:33:02.737840Z",
     "start_time": "2025-10-20T06:30:50.917959Z"
    }
   },
   "outputs": [],
   "source": [
    "X = df.drop(columns=['loan_amnt'])\n",
    "y = df['loan_amnt']\n"
   ]
  },
  {
   "cell_type": "code",
   "execution_count": 4,
   "id": "17ce66cb343567cf",
   "metadata": {
    "ExecuteTime": {
     "end_time": "2025-10-20T07:10:58.864152Z",
     "start_time": "2025-10-20T07:10:54.672054Z"
    }
   },
   "outputs": [
    {
     "name": "stdout",
     "output_type": "stream",
     "text": [
      "After encoding: (501483, 117)\n"
     ]
    }
   ],
   "source": [
    "# Handle categorical columns safely (limit to top 10 categories)\n",
    "for col in X.select_dtypes(include='object').columns:\n",
    "    top_10 = X[col].value_counts().index[:10]\n",
    "    X[col] = X[col].where(X[col].isin(top_10), other='Other')\n",
    "\n",
    "# Convert categorical columns to dummy variables\n",
    "X = pd.get_dummies(X, drop_first=True)\n",
    "print(\"After encoding:\", X.shape)"
   ]
  },
  {
   "cell_type": "code",
   "execution_count": 5,
   "id": "78d008a9ffb9d718",
   "metadata": {
    "ExecuteTime": {
     "end_time": "2025-10-20T07:13:13.452735Z",
     "start_time": "2025-10-20T07:12:18.615328Z"
    }
   },
   "outputs": [],
   "source": [
    "X_train, X_test, y_train, y_test = train_test_split(\n",
    "    X, y, test_size=0.2, random_state=42\n",
    ")"
   ]
  },
  {
   "cell_type": "code",
   "execution_count": 6,
   "id": "ce37e15e07db20ec",
   "metadata": {
    "ExecuteTime": {
     "end_time": "2025-10-20T08:20:21.133705Z",
     "start_time": "2025-10-20T08:20:07.047039Z"
    }
   },
   "outputs": [
    {
     "name": "stdout",
     "output_type": "stream",
     "text": [
      "Baseline Model Results:\n",
      "R² (Train): 1.0\n",
      "R² (Test) : 0.9999051716209411\n"
     ]
    }
   ],
   "source": [
    "clf = DecisionTreeRegressor(random_state=42)\n",
    "clf.fit(X_train, y_train)\n",
    "\n",
    "print(\"Baseline Model Results:\")\n",
    "print(\"R² (Train):\", clf.score(X_train, y_train))\n",
    "print(\"R² (Test) :\", clf.score(X_test, y_test))"
   ]
  },
  {
   "cell_type": "code",
   "execution_count": 7,
   "id": "a880480735d7f7bb",
   "metadata": {
    "ExecuteTime": {
     "end_time": "2025-10-20T07:20:44.747388Z",
     "start_time": "2025-10-20T07:20:00.891965Z"
    }
   },
   "outputs": [
    {
     "name": "stdout",
     "output_type": "stream",
     "text": [
      "Fitting 2 folds for each of 5 candidates, totalling 10 fits\n",
      "\n",
      "--- TUNED MODEL ---\n",
      "Best Parameters: {'splitter': 'best', 'min_samples_split': 20, 'min_samples_leaf': 10, 'max_depth': 10, 'criterion': 'squared_error'}\n",
      "R² (Train): 0.9990998943260174\n",
      "R² (Test) : 0.9990948149171023\n"
     ]
    }
   ],
   "source": [
    "param_grid = {\n",
    "    'criterion': ['squared_error', 'friedman_mse'],  # smaller list\n",
    "    'max_depth': [6, 8, 10],                         # fewer depths\n",
    "    'min_samples_split': [10, 20],\n",
    "    'min_samples_leaf': [5, 10],\n",
    "    'splitter': ['best']\n",
    "}\n",
    "\n",
    "search = RandomizedSearchCV(\n",
    "    estimator=DecisionTreeRegressor(random_state=42),\n",
    "    param_distributions=param_grid,\n",
    "    n_iter=5,        # only test 5 combos\n",
    "    cv=2,            # only 2-fold cross-validation\n",
    "    scoring='r2',\n",
    "    n_jobs=1,\n",
    "    pre_dispatch=1,\n",
    "    random_state=42,\n",
    "    verbose=1\n",
    ")\n",
    "\n",
    "search.fit(X_train, y_train)\n",
    "DT_model = search.best_estimator_\n",
    "\n",
    "print(\"\\n--- TUNED MODEL ---\")\n",
    "print(\"Best Parameters:\", search.best_params_)\n",
    "print(\"R² (Train):\", DT_model.score(X_train, y_train))\n",
    "print(\"R² (Test) :\", DT_model.score(X_test, y_test))"
   ]
  },
  {
   "cell_type": "code",
   "execution_count": 8,
   "id": "884da8efde8af198",
   "metadata": {},
   "outputs": [
    {
     "name": "stdout",
     "output_type": "stream",
     "text": [
      "\n",
      "Model Evaluation Metrics:\n",
      "MAE : 135.14395731351493\n",
      "RMSE: 282.66364239707923\n",
      "R²  : 0.9990948149171023\n"
     ]
    }
   ],
   "source": [
    "y_pred = DT_model.predict(X_test)\n",
    "\n",
    "mae = mean_absolute_error(y_test, y_pred)\n",
    "mse = mean_squared_error(y_test, y_pred)\n",
    "rmse = np.sqrt(mse)\n",
    "r2 = r2_score(y_test, y_pred)\n",
    "\n",
    "print(\"\\nModel Evaluation Metrics:\")\n",
    "print(\"MAE :\", mae)\n",
    "print(\"RMSE:\", rmse)\n",
    "print(\"R²  :\", r2)"
   ]
  },
  {
   "cell_type": "code",
   "execution_count": 9,
   "id": "2488d12f-69f8-4769-a333-a83d97c70e55",
   "metadata": {},
   "outputs": [
    {
     "name": "stdout",
     "output_type": "stream",
     "text": [
      "\n",
      "K-Fold Cross Validation Results:\n",
      "CV Scores: [0.99892522 0.99909754 0.99908029 0.99910796 0.99913924]\n",
      "Mean R²: 0.9990700486669712\n",
      "Std Dev: 7.491617593767597e-05\n"
     ]
    }
   ],
   "source": [
    "kfold = KFold(n_splits=5, shuffle=True, random_state=42)\n",
    "cv_scores = cross_val_score(DT_model, X_train, y_train, cv=kfold, scoring='r2')\n",
    "\n",
    "print(\"\\nK-Fold Cross Validation Results:\")\n",
    "print(\"CV Scores:\", cv_scores)\n",
    "print(\"Mean R²:\", np.mean(cv_scores))\n",
    "print(\"Std Dev:\", np.std(cv_scores))"
   ]
  },
  {
   "cell_type": "code",
   "execution_count": 10,
   "id": "56805595-d3bd-473a-9594-b2a969f28119",
   "metadata": {},
   "outputs": [
    {
     "data": {
      "image/png": "[encoded data removed]",
      "text/plain": [
       "<Figure size 800x600 with 1 Axes>"
      ]
     },
     "metadata": {},
     "output_type": "display_data"
    }
   ],
   "source": [
    "feature_importance = pd.Series(DT_model.feature_importances_, index=X.columns)\n",
    "top_features = feature_importance.nlargest(10)\n",
    "\n",
    "plt.figure(figsize=(8,6))\n",
    "top_features.plot(kind='barh', color='skyblue')\n",
    "plt.xlabel(\"Importance\")\n",
    "plt.ylabel(\"Feature\")\n",
    "plt.title(\"Top 10 Important Features\")\n",
    "plt.gca().invert_yaxis()\n",
    "plt.show()"
   ]
  }
 ],
 "metadata": {
  "kernelspec": {
   "display_name": "Python [conda env:base] *",
   "language": "python",
   "name": "conda-base-py"
  },
  "language_info": {
   "codemirror_mode": {
    "name": "ipython",
    "version": 3
   },
   "file_extension": ".py",
   "mimetype": "text/x-python",
   "name": "python",
   "nbconvert_exporter": "python",
   "pygments_lexer": "ipython3",
   "version": "3.13.5"
  }
 },
 "nbformat": 4,
 "nbformat_minor": 5
}
